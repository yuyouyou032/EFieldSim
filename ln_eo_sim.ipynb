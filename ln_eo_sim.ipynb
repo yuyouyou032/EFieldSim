{
 "cells": [
  {
   "cell_type": "code",
   "execution_count": 9,
   "id": "6828c847",
   "metadata": {},
   "outputs": [],
   "source": [
    "import numpy as np\n",
    "from dolfinx import mesh, fem, io\n",
    "from mpi4py import MPI\n",
    "from petsc4py import PETSc\n",
    "import ufl\n",
    "\n",
    "# Parameters\n",
    "length = 10e-6\n",
    "height = 5e-6\n",
    "nx = 100\n",
    "ny = 50\n",
    "\n",
    "# 2D mesh\n",
    "domain = mesh.create_rectangle(MPI.COMM_WORLD,\n",
    "                               [np.array([0, 0]), np.array([length, height])],\n",
    "                               [nx, ny],\n",
    "                               cell_type=mesh.CellType.triangle)\n",
    "\n",
    "# Function space\n",
    "V = fem.functionspace(domain, (\"CG\", 1))\n",
    "\n",
    "# Relative permittivity (scalar)\n",
    "eps_r = fem.Constant(domain, PETSc.ScalarType(28.0))  # Approx LiNbO3\n",
    "\n",
    "# Boundary markers\n",
    "def left_boundary(x):\n",
    "    return np.isclose(x[0], 0.0)\n",
    "\n",
    "def right_boundary(x):\n",
    "    return np.isclose(x[0], length)\n",
    "\n",
    "facets_left = mesh.locate_entities_boundary(domain, dim=1, marker=left_boundary)\n",
    "facets_right = mesh.locate_entities_boundary(domain, dim=1, marker=right_boundary)\n",
    "\n",
    "# Dirichlet BCs\n",
    "dofs_left = fem.locate_dofs_topological(V, entity_dim=1, entities=facets_left)\n",
    "dofs_right = fem.locate_dofs_topological(V, entity_dim=1, entities=facets_right)\n",
    "\n",
    "bc_left = fem.dirichletbc(PETSc.ScalarType(100.0), dofs_left, V)\n",
    "bc_right = fem.dirichletbc(PETSc.ScalarType(0.0), dofs_right, V)\n",
    "\n",
    "# Variational problem\n",
    "u = ufl.TrialFunction(V)\n",
    "v = ufl.TestFunction(V)\n",
    "\n",
    "a = eps_r * ufl.dot(ufl.grad(u), ufl.grad(v)) * ufl.dx(domain)\n",
    "# Linear form (homogeneous RHS)\n",
    "zero = fem.Constant(domain, PETSc.ScalarType(0.0))\n",
    "L = zero * v * ufl.dx(domain)\n",
    "\n",
    "# LinearProblem setup\n",
    "from dolfinx.fem.petsc import LinearProblem\n",
    "\n",
    "problem = LinearProblem(\n",
    "    a,\n",
    "    L,\n",
    "    bcs=[bc_left, bc_right],\n",
    "    petsc_options={\"ksp_type\": \"cg\"}\n",
    ")\n",
    "\n",
    "phi_sol = problem.solve()"
   ]
  },
  {
   "cell_type": "code",
   "execution_count": 10,
   "id": "9aca9c01",
   "metadata": {},
   "outputs": [
    {
     "name": "stderr",
     "output_type": "stream",
     "text": [
      "ld: warning: duplicate -rpath '/opt/anaconda3/envs/fenicsx-env/lib' ignored\n",
      "ld: warning: duplicate -rpath '/opt/anaconda3/envs/fenicsx-env/lib' ignored\n"
     ]
    }
   ],
   "source": [
    "# Compute E = -grad(phi)\n",
    "E = fem.Expression(-ufl.grad(phi_sol), V.element.interpolation_points())"
   ]
  },
  {
   "cell_type": "code",
   "execution_count": 12,
   "id": "58868165",
   "metadata": {},
   "outputs": [
    {
     "name": "stderr",
     "output_type": "stream",
     "text": [
      "ld: warning: duplicate -rpath '/opt/anaconda3/envs/fenicsx-env/lib' ignored\n",
      "ld: warning: duplicate -rpath '/opt/anaconda3/envs/fenicsx-env/lib' ignored\n",
      "ld: warning: duplicate -rpath '/opt/anaconda3/envs/fenicsx-env/lib' ignored\n",
      "ld: warning: duplicate -rpath '/opt/anaconda3/envs/fenicsx-env/lib' ignored\n",
      "ld: warning: duplicate -rpath '/opt/anaconda3/envs/fenicsx-env/lib' ignored\n",
      "ld: warning: duplicate -rpath '/opt/anaconda3/envs/fenicsx-env/lib' ignored\n"
     ]
    }
   ],
   "source": [
    "# Export to XDMF\n",
    "with io.XDMFFile(MPI.COMM_WORLD, \"potential.xdmf\", \"w\") as xdmf:\n",
    "    xdmf.write_mesh(domain)\n",
    "    phi_sol.name = \"Potential\"\n",
    "    xdmf.write_function(phi_sol)\n",
    "\n",
    "# Save E-field components\n",
    "# Note: Since E is a vector expression, project each component\n",
    "W = fem.functionspace(domain, (\"CG\", 1))\n",
    "grad_phi = ufl.grad(phi_sol)\n",
    "\n",
    "# Project Ex\n",
    "Ex = fem.Function(W)\n",
    "ex_form = -grad_phi[0]\n",
    "a_proj = ufl.inner(ufl.TestFunction(W), ufl.TrialFunction(W)) * ufl.dx\n",
    "L_proj_ex = ufl.inner(ufl.TestFunction(W), ex_form) * ufl.dx\n",
    "problem_ex = LinearProblem(a_proj, L_proj_ex, petsc_options={\"ksp_type\": \"cg\"})\n",
    "Ex.x.array[:] = problem_ex.solve().x.array\n",
    "\n",
    "# Project Ey\n",
    "Ey = fem.Function(W)\n",
    "ey_form = -grad_phi[1]\n",
    "L_proj_ey = ufl.inner(ufl.TestFunction(W), ey_form) * ufl.dx\n",
    "problem_ey = LinearProblem(a_proj, L_proj_ey, petsc_options={\"ksp_type\": \"cg\"})\n",
    "Ey.x.array[:] = problem_ey.solve().x.array\n",
    "\n",
    "with io.XDMFFile(MPI.COMM_WORLD, \"efield.xdmf\", \"w\") as xdmf:\n",
    "    xdmf.write_mesh(domain)\n",
    "    Ex.name = \"Ex\"\n",
    "    Ey.name = \"Ey\"\n",
    "    xdmf.write_function(Ex)\n",
    "    xdmf.write_function(Ey)"
   ]
  },
  {
   "cell_type": "code",
   "execution_count": null,
   "id": "946891ed",
   "metadata": {},
   "outputs": [],
   "source": []
  }
 ],
 "metadata": {
  "kernelspec": {
   "display_name": "fenicsx-env",
   "language": "python",
   "name": "python3"
  },
  "language_info": {
   "codemirror_mode": {
    "name": "ipython",
    "version": 3
   },
   "file_extension": ".py",
   "mimetype": "text/x-python",
   "name": "python",
   "nbconvert_exporter": "python",
   "pygments_lexer": "ipython3",
   "version": "3.13.5"
  }
 },
 "nbformat": 4,
 "nbformat_minor": 5
}
